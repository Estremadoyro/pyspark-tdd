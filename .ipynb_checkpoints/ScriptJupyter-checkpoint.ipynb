{
 "cells": [
  {
   "cell_type": "code",
   "execution_count": 2,
   "id": "matched-harris",
   "metadata": {},
   "outputs": [],
   "source": [
    "import findspark"
   ]
  },
  {
   "cell_type": "code",
   "execution_count": 3,
   "id": "widespread-secretary",
   "metadata": {},
   "outputs": [],
   "source": [
    "findspark.init('/home/leonardo/spark-3.1.1-bin-hadoop2.7')"
   ]
  },
  {
   "cell_type": "code",
   "execution_count": 4,
   "id": "afraid-minutes",
   "metadata": {},
   "outputs": [],
   "source": [
    "import pytest"
   ]
  },
  {
   "cell_type": "code",
   "execution_count": 6,
   "id": "covered-possession",
   "metadata": {},
   "outputs": [],
   "source": [
    "from pyspark import SparkContext, SparkConf\n",
    "from pyspark.sql import HiveContext\n",
    "from pyspark.sql import functions as F"
   ]
  },
  {
   "cell_type": "code",
   "execution_count": 7,
   "id": "disabled-approval",
   "metadata": {},
   "outputs": [],
   "source": [
    "from pyspark.sql.functions import col"
   ]
  },
  {
   "cell_type": "code",
   "execution_count": 8,
   "id": "civilian-stretch",
   "metadata": {},
   "outputs": [],
   "source": [
    "sc = SparkContext.getOrCreate()"
   ]
  },
  {
   "cell_type": "code",
   "execution_count": 9,
   "id": "pretty-manitoba",
   "metadata": {},
   "outputs": [],
   "source": [
    "sqlContext = HiveContext(sc)"
   ]
  },
  {
   "cell_type": "code",
   "execution_count": 10,
   "id": "developing-michael",
   "metadata": {},
   "outputs": [],
   "source": [
    "m_destipointeraccion = sqlContext.read.parquet(\"./inputs caso practico/m_destipointeraccion\");\n",
    "h_interaccioncajero = sqlContext.read.parquet(\"./inputs caso practico/h_interaccioncajero\");"
   ]
  },
  {
   "cell_type": "markdown",
   "id": "appropriate-fence",
   "metadata": {},
   "source": [
    "#### GENERACION DE UNIVERSO"
   ]
  },
  {
   "cell_type": "code",
   "execution_count": 11,
   "id": "concerned-texture",
   "metadata": {},
   "outputs": [],
   "source": [
    "#PASO 1\n",
    "#CREAR UNIVERSO INTERACCIONES VALIDAS\n",
    "columns1 = [\"tipinteraccion\", \"mtointeraccionsol\"]\n",
    "TP_UNIV_INTERACCION = h_interaccioncajero.where(\"flgvalida = 'S'\").select(*columns1)"
   ]
  },
  {
   "cell_type": "code",
   "execution_count": 12,
   "id": "beautiful-revision",
   "metadata": {},
   "outputs": [
    {
     "name": "stdout",
     "output_type": "stream",
     "text": [
      "+--------------+-----------------+\n",
      "|tipinteraccion|mtointeraccionsol|\n",
      "+--------------+-----------------+\n",
      "|        101000|         160.0000|\n",
      "|        101000|        2000.0000|\n",
      "|        101000|         100.0000|\n",
      "|        481040|         290.0000|\n",
      "|        101000|         100.0000|\n",
      "+--------------+-----------------+\n",
      "only showing top 5 rows\n",
      "\n"
     ]
    }
   ],
   "source": [
    "TP_UNIV_INTERACCION.show(5)"
   ]
  },
  {
   "cell_type": "code",
   "execution_count": 13,
   "id": "attempted-connectivity",
   "metadata": {},
   "outputs": [],
   "source": [
    "#PASO 2\n",
    "#CREAR UNIVERSO DE MAESTRA TIPO INTERACCIONES VALIDAS PARA CANAL 1002\n",
    "columns2 = [\"tipinteraccion\", \"destipinteraccion\",]\n",
    "TP_UNIV_TIPO_INTERACCION = h_interaccioncajero.where(\"codcanal = '1002'\").select(*columns2)"
   ]
  },
  {
   "cell_type": "code",
   "execution_count": 14,
   "id": "progressive-accountability",
   "metadata": {},
   "outputs": [
    {
     "name": "stdout",
     "output_type": "stream",
     "text": [
      "+--------------+--------------------+\n",
      "|tipinteraccion|   destipinteraccion|\n",
      "+--------------+--------------------+\n",
      "|        101000|Retiro cuentas SA...|\n",
      "|        101000|Retiro cuentas SA...|\n",
      "|        101000|Retiro cuentas SA...|\n",
      "|        481040|Transferencia a t...|\n",
      "|        101000|Retiro cuentas SA...|\n",
      "+--------------+--------------------+\n",
      "only showing top 5 rows\n",
      "\n"
     ]
    }
   ],
   "source": [
    "TP_UNIV_TIPO_INTERACCION.show(5)"
   ]
  },
  {
   "cell_type": "code",
   "execution_count": 15,
   "id": "warming-sperm",
   "metadata": {},
   "outputs": [],
   "source": [
    "#PASO 3\n",
    "#CRUCE DE TABLAS TEMPORALES\n",
    "TP_UNIVERSOS_INTERACCION = TP_UNIV_INTERACCION.alias(\"a\") \\\n",
    "                           .join(TP_UNIV_TIPO_INTERACCION.alias(\"b\"), \\\n",
    "                           TP_UNIV_INTERACCION.tipinteraccion == TP_UNIV_TIPO_INTERACCION.tipinteraccion, \\\n",
    "                           how='left').select(\"a.tipinteraccion\", \"a.mtointeraccionsol\", \"b.destipinteraccion\")"
   ]
  },
  {
   "cell_type": "code",
   "execution_count": 16,
   "id": "choice-guitar",
   "metadata": {},
   "outputs": [
    {
     "name": "stdout",
     "output_type": "stream",
     "text": [
      "+--------------+-----------------+--------------------+\n",
      "|tipinteraccion|mtointeraccionsol|   destipinteraccion|\n",
      "+--------------+-----------------+--------------------+\n",
      "|        101000|         160.0000|Retiro cuentas SA...|\n",
      "|        101000|         160.0000|Retiro cuentas SA...|\n",
      "|        101000|         160.0000|Retiro cuentas SA...|\n",
      "|        101000|         160.0000|Retiro cuentas SA...|\n",
      "|        101000|         160.0000|Retiro cuentas SA...|\n",
      "+--------------+-----------------+--------------------+\n",
      "only showing top 5 rows\n",
      "\n"
     ]
    }
   ],
   "source": [
    "TP_UNIVERSOS_INTERACCION.show(5)"
   ]
  },
  {
   "cell_type": "code",
   "execution_count": 17,
   "id": "documented-tyler",
   "metadata": {},
   "outputs": [],
   "source": [
    "#PASO 4\n",
    "#AGRUPACION Y CREACION DE NUEVOS REGISTROS\n",
    "M_UNIVERSOS_INTERACCION = TP_UNIVERSOS_INTERACCION.groupBy(\"tipinteraccion\", \"destipinteraccion\") \\\n",
    "                          .agg(F.count(col(\"tipinteraccion\")), F.sum(col(\"mtointeraccionsol\"))) \\\n",
    "                          .withColumnRenamed(\"tipinteraccion\", \"INTERACTION_CODE\") \\\n",
    "                          .withColumnRenamed(\"destipinteraccion\", \"INTERACTION_DESCRIPTION\") \\\n",
    "                          .withColumnRenamed(\"count(tipinteraccion)\", \"INTERACTION_NUMBER\") \\\n",
    "                          .withColumnRenamed(\"sum(mtointeraccionsol)\", \"INTERACTION_AMOUNT\")"
   ]
  },
  {
   "cell_type": "code",
   "execution_count": 34,
   "id": "demonstrated-sleep",
   "metadata": {},
   "outputs": [
    {
     "name": "stdout",
     "output_type": "stream",
     "text": [
      "+----------------+-----------------------+------------------+------------------+\n",
      "|INTERACTION_CODE|INTERACTION_DESCRIPTION|INTERACTION_NUMBER|INTERACTION_AMOUNT|\n",
      "+----------------+-----------------------+------------------+------------------+\n",
      "|          101000|   Retiro cuentas SA...|              5644|      2781330.0000|\n",
      "|          102000|   Retiro cuentas IM...|                 4|         1200.0000|\n",
      "|          482040|   Transferencia a t...|                 1|          600.0000|\n",
      "|          291000|   Deposito a cuenta...|                49|        33670.0000|\n",
      "|          481040|   Transferencia a t...|                36|        14940.0000|\n",
      "|          441080|   Deposito a cuenta...|                 1|          400.0000|\n",
      "+----------------+-----------------------+------------------+------------------+\n",
      "\n"
     ]
    }
   ],
   "source": [
    "M_UNIVERSOS_INTERACCION.show()"
   ]
  },
  {
   "cell_type": "code",
   "execution_count": 39,
   "id": "closed-wiring",
   "metadata": {},
   "outputs": [],
   "source": [
    "M_UNIVERSOS_INTERACCION.write.parquet(\"/home/leonardo/Desktop/Code/Practice/Python/SparkDespliegue/Scripts/M_UNIVERSOS_INTERACCION\")"
   ]
  }
 ],
 "metadata": {
  "kernelspec": {
   "display_name": "Python 3",
   "language": "python",
   "name": "python3"
  },
  "language_info": {
   "codemirror_mode": {
    "name": "ipython",
    "version": 3
   },
   "file_extension": ".py",
   "mimetype": "text/x-python",
   "name": "python",
   "nbconvert_exporter": "python",
   "pygments_lexer": "ipython3",
   "version": "3.8.5"
  }
 },
 "nbformat": 4,
 "nbformat_minor": 5
}
